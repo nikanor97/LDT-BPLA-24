{
 "cells": [
  {
   "cell_type": "code",
   "execution_count": null,
   "id": "94bbfdc2-4c89-4569-8f2b-a1998e806143",
   "metadata": {},
   "source": [],
   "outputs": []
  },
  {
   "cell_type": "code",
   "execution_count": 10,
   "id": "02bfc0d3-215b-48c8-9166-890c84f60355",
   "metadata": {},
   "source": [
    "import os\n",
    "import requests\n",
    "from bs4 import BeautifulSoup\n",
    "\n",
    "# Функция для создания папки, если она не существует\n",
    "def create_directory(directory):\n",
    "    if not os.path.exists(directory):\n",
    "        os.makedirs(directory)\n",
    "\n",
    "# Функция для скачивания изображения\n",
    "def download_image(url, folder_path):\n",
    "    try:\n",
    "        response = requests.get(url, stream=True)\n",
    "        if response.status_code == 200:\n",
    "            image_name = url.split(\"/\")[-1]\n",
    "            image_path = os.path.join(folder_path, image_name)\n",
    "            with open(image_path, 'wb') as file:\n",
    "                for chunk in response.iter_content(1024):\n",
    "                    file.write(chunk)\n",
    "            return image_path\n",
    "    except Exception as e:\n",
    "        print(f\"Не удалось скачать изображение {url}. Ошибка: {e}\")\n",
    "        return None\n",
    "\n",
    "# Функция для извлечения и скачивания изображений с HTML страницы\n",
    "def extract_and_download_images(html_content, folder_path):\n",
    "    soup = BeautifulSoup(html_content, 'html.parser')\n",
    "    img_tags = soup.find_all('img')\n",
    "    \n",
    "    full_image_urls = []\n",
    "    downloaded_images = []\n",
    "\n",
    "    for img in img_tags:\n",
    "        img_url = img.get('src')\n",
    "        if img_url and img_url.startswith('http'):\n",
    "            full_image_urls.append(img_url)\n",
    "            image_path = download_image(img_url, folder_path)\n",
    "            if image_path:\n",
    "                downloaded_images.append(image_path)\n",
    "\n",
    "    return full_image_urls, downloaded_images\n"
   ],
   "outputs": []
  },
  {
   "cell_type": "code",
   "execution_count": 11,
   "id": "328c989c-5572-4e53-86d7-9aa334bac8d5",
   "metadata": {},
   "source": [
    "# Основная часть скрипта\n",
    "html_file_path = 'htmls/q1.html'\n",
    "download_folder = 'htmls/q1'\n",
    "\n",
    "# Создаем папку для сохранения изображений\n",
    "create_directory(download_folder)\n",
    "\n",
    "# Читаем HTML файл\n",
    "with open(html_file_path, 'r', encoding='utf-8') as file:\n",
    "    html_content = file.read()\n",
    "\n",
    "# Извлекаем и скачиваем изображения\n",
    "full_image_urls, downloaded_images = extract_and_download_images(html_content, download_folder)\n",
    "\n",
    "# Сохраняем пути к полноразмерным изображениям в файл\n",
    "with open('full_image_urls.txt', 'w', encoding='utf-8') as file:\n",
    "    for url in full_image_urls:\n",
    "        file.write(url + '\\n')\n",
    "\n",
    "print(\"Скачивание завершено. Пути к изображениям сохранены в full_image_urls.txt.\")"
   ],
   "outputs": []
  },
  {
   "cell_type": "code",
   "execution_count": null,
   "id": "bdd55d79-3e1f-4fab-9a02-27d1f67b1482",
   "metadata": {},
   "source": [],
   "outputs": []
  }
 ],
 "metadata": {
  "kernelspec": {
   "display_name": "Python 3 (ipykernel)",
   "language": "python",
   "name": "python3"
  },
  "language_info": {
   "codemirror_mode": {
    "name": "ipython",
    "version": 3
   },
   "file_extension": ".py",
   "mimetype": "text/x-python",
   "name": "python",
   "nbconvert_exporter": "python",
   "pygments_lexer": "ipython3",
   "version": "3.10.12"
  }
 },
 "nbformat": 4,
 "nbformat_minor": 5
}
